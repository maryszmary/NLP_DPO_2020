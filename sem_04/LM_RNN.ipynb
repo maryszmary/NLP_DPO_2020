{
 "cells": [
  {
   "cell_type": "markdown",
   "metadata": {},
   "source": [
    "# Языковая модель на RNN"
   ]
  },
  {
   "cell_type": "markdown",
   "metadata": {},
   "source": [
    "## Реккурентные нейронные сети (RNN)\n",
    "\n",
    "Исходная последовательность:\n",
    "\n",
    "$x_{1:n} = x_1, x_2, \\ldots, x_n$, $x_i \\in \\mathbb{R}^{d_{in}}$\n",
    "\n",
    "Для каждого входного значения $x_{1:i}$ получаем на выходе $y_i$:\n",
    "\n",
    "$y_i = RNN(x_{1:i})$, $y_i \\in \\mathbb{R}^{d_{out}}$\n",
    "\n",
    "Для всей последовательности $x_{1:n}$:\n",
    "\n",
    "$y_{1:n} = RNN^{*}(x_{1:n})$, $y_i \\in \\mathbb{R}^{d_{out}}$"
   ]
  },
  {
   "cell_type": "markdown",
   "metadata": {},
   "source": [
    "$R$ - рекурсивная функция активации, зависящая от двух параметров: $x_i$ и $s_{i-1}$ (вектор предыдущего состояния)\n",
    "\n",
    "$RNN^{*}(x_{1:n}, s_0) = y_{1:n}$\n",
    "\n",
    "$y_i = O(s_i) = g(W^{out}[s_{i} ,x_i] +b)$\n",
    "\n",
    "$s_i = R(s_{i-1}, x_i)$\n",
    "\n",
    "$s_i = R(s_{i-1}, x_i) = g(W^{hid}[s_{i-1} ,x_i] +b)$  -- конкатенация $[s_{i-1}, x]$\n",
    "\n",
    "$x_i \\in \\mathbb{R}^{d_{in}}$, $y_i \\in \\mathbb{R}^{ d_{out}}$, $s_i \\in \\mathbb{R}^{d_{hid}}$\n",
    "\n",
    "$W^{hid} \\in \\mathbb{R}^{(d_{in}+d_{out}) \\times d_{hid}}$, $W^{out} \\in \\mathbb{R}^{d_{hid} \\times d_{out}}$"
   ]
  },
  {
   "cell_type": "markdown",
   "metadata": {},
   "source": [
    "Построим языковую модель на основе RNN с помощью pytorch"
   ]
  },
  {
   "cell_type": "code",
   "execution_count": 1,
   "metadata": {},
   "outputs": [],
   "source": [
    "import numpy as np\n",
    "import random\n",
    "import torch\n",
    "import torch.nn as nn\n",
    "import torch.optim as optim\n",
    "import pdb\n",
    "from torch.utils.data import Dataset, DataLoader\n",
    "\n",
    "%load_ext autoreload\n",
    "%autoreload 2\n",
    "\n",
    "torch.set_printoptions(linewidth=200)"
   ]
  },
  {
   "cell_type": "code",
   "execution_count": 2,
   "metadata": {},
   "outputs": [],
   "source": [
    "device = torch.device(\"cuda:0\" if torch.cuda.is_available() else \"cpu\")\n",
    "hidden_size = 50"
   ]
  },
  {
   "cell_type": "markdown",
   "metadata": {},
   "source": [
    "Подготовим данные"
   ]
  },
  {
   "cell_type": "code",
   "execution_count": 3,
   "metadata": {
    "code_folding": [
     0
    ]
   },
   "outputs": [],
   "source": [
    "class DinosDataset(Dataset):\n",
    "    def __init__(self):\n",
    "        super().__init__()\n",
    "        with open('dinos.txt') as f:\n",
    "            content = f.read().lower()\n",
    "            self.vocab = sorted(set(content)) + ['<', '>']\n",
    "            self.vocab_size = len(self.vocab)\n",
    "            self.lines = content.splitlines()\n",
    "        self.ch_to_idx = {c:i for i, c in enumerate(self.vocab)}\n",
    "        self.idx_to_ch = {i:c for i, c in enumerate(self.vocab)}\n",
    "    \n",
    "    def __getitem__(self, index):\n",
    "        line = self.lines[index]\n",
    "        #teacher forcing\n",
    "        x_str = '<' + line \n",
    "        y_str = line + '>' \n",
    "        x = torch.zeros([len(x_str), self.vocab_size], dtype=torch.float)\n",
    "        y = torch.empty(len(x_str), dtype=torch.long)\n",
    "        for i, (x_ch, y_ch) in enumerate(zip(x_str, y_str)):\n",
    "            x[i][self.ch_to_idx[x_ch]] = 1\n",
    "            y[i] = self.ch_to_idx[y_ch]\n",
    "        \n",
    "        return x, y\n",
    "    \n",
    "    def __len__(self):\n",
    "        return len(self.lines)"
   ]
  },
  {
   "cell_type": "code",
   "execution_count": 4,
   "metadata": {},
   "outputs": [],
   "source": [
    "trn_ds = DinosDataset()\n",
    "trn_dl = DataLoader(trn_ds, shuffle=True)"
   ]
  },
  {
   "cell_type": "code",
   "execution_count": 5,
   "metadata": {},
   "outputs": [
    {
     "data": {
      "text/plain": [
       "'aardonyx'"
      ]
     },
     "execution_count": 5,
     "metadata": {},
     "output_type": "execute_result"
    }
   ],
   "source": [
    "trn_ds.lines[1]"
   ]
  },
  {
   "cell_type": "code",
   "execution_count": 6,
   "metadata": {},
   "outputs": [
    {
     "name": "stdout",
     "output_type": "stream",
     "text": [
      "{0: '\\n', 1: 'a', 2: 'b', 3: 'c', 4: 'd', 5: 'e', 6: 'f', 7: 'g', 8: 'h', 9: 'i', 10: 'j', 11: 'k', 12: 'l', 13: 'm', 14: 'n', 15: 'o', 16: 'p', 17: 'q', 18: 'r', 19: 's', 20: 't', 21: 'u', 22: 'v', 23: 'w', 24: 'x', 25: 'y', 26: 'z', 27: '<', 28: '>'}\n"
     ]
    }
   ],
   "source": [
    "print(trn_ds.idx_to_ch)"
   ]
  },
  {
   "cell_type": "code",
   "execution_count": 7,
   "metadata": {},
   "outputs": [
    {
     "data": {
      "text/plain": [
       "29"
      ]
     },
     "execution_count": 7,
     "metadata": {},
     "output_type": "execute_result"
    }
   ],
   "source": [
    "trn_ds.vocab_size"
   ]
  },
  {
   "cell_type": "code",
   "execution_count": 8,
   "metadata": {},
   "outputs": [],
   "source": [
    "x, y = trn_ds[1]"
   ]
  },
  {
   "cell_type": "code",
   "execution_count": 9,
   "metadata": {
    "scrolled": true
   },
   "outputs": [
    {
     "data": {
      "text/plain": [
       "torch.Size([9, 29])"
      ]
     },
     "execution_count": 9,
     "metadata": {},
     "output_type": "execute_result"
    }
   ],
   "source": [
    "x.shape"
   ]
  },
  {
   "cell_type": "code",
   "execution_count": 10,
   "metadata": {},
   "outputs": [
    {
     "data": {
      "text/plain": [
       "torch.Size([9])"
      ]
     },
     "execution_count": 10,
     "metadata": {},
     "output_type": "execute_result"
    }
   ],
   "source": [
    "y.shape"
   ]
  },
  {
   "cell_type": "markdown",
   "metadata": {},
   "source": [
    "Опишем модель, функцию потерь и алгоритм оптимизации"
   ]
  },
  {
   "cell_type": "code",
   "execution_count": 11,
   "metadata": {
    "code_folding": []
   },
   "outputs": [],
   "source": [
    "class RNN(nn.Module):\n",
    "    def __init__(self, input_size, hidden_size, output_size):\n",
    "        super().__init__()\n",
    "        self.i2h = nn.Linear(input_size + hidden_size, hidden_size)\n",
    "        self.dropout = nn.Dropout(0.3)\n",
    "        self.i2o = nn.Linear(hidden_size, output_size)\n",
    "    \n",
    "    def forward(self, h_prev, x):\n",
    "        combined = torch.cat([h_prev, x], dim = 1) # concatenate x and h\n",
    "        h = torch.tanh(self.dropout(self.i2h(combined)))\n",
    "        y = self.i2o(h)\n",
    "        return h, y"
   ]
  },
  {
   "cell_type": "code",
   "execution_count": 12,
   "metadata": {},
   "outputs": [],
   "source": [
    "model = RNN(trn_ds.vocab_size, hidden_size, trn_ds.vocab_size).to(device)\n",
    "loss_fn = nn.CrossEntropyLoss()\n",
    "optimizer = optim.SGD(model.parameters(), lr=1e-2)"
   ]
  },
  {
   "cell_type": "markdown",
   "metadata": {},
   "source": [
    "![rnn](images/dinos3.png)"
   ]
  },
  {
   "cell_type": "code",
   "execution_count": 26,
   "metadata": {
    "code_folding": []
   },
   "outputs": [],
   "source": [
    "def sample(model):\n",
    "    model.eval()\n",
    "    end_char_idx = trn_ds.ch_to_idx['>'] # чтобы понимать, когда слово кончилось\n",
    "    start_char_idx = trn_ds.ch_to_idx['<'] # seed для начала слова\n",
    "    with torch.no_grad():\n",
    "        h_prev = torch.zeros([1, hidden_size], dtype=torch.float, device=device)\n",
    "        x = h_prev.new_zeros([1, trn_ds.vocab_size])\n",
    "        \n",
    "        # \"сгенерирвали\" начало слова\n",
    "        indices = [start_char_idx]\n",
    "        x[0, start_char_idx] = 1\n",
    "        predicted_char_idx = start_char_idx\n",
    "        \n",
    "        while predicted_char_idx != end_char_idx and len(indices) != 50:\n",
    "            h_prev, y_pred = model(h_prev, x)\n",
    "            y_softmax_scores = torch.softmax(y_pred, dim=1)\n",
    "            \n",
    "            np.random.seed(np.random.randint(1, 5000))\n",
    "            idx = np.random.choice(np.arange(trn_ds.vocab_size), p=y_softmax_scores.cpu().numpy().ravel())\n",
    "            indices.append(idx)\n",
    "            \n",
    "            x = (y_pred == y_pred.max(1)[0]).float() # нетривиальное решение: подаём не всегда то же, что выдали\n",
    "            \n",
    "            predicted_char_idx = idx\n",
    "            \n",
    "        \n",
    "        if len(indices) == 50:\n",
    "            indices.append(newline_idx)\n",
    "    return indices"
   ]
  },
  {
   "cell_type": "code",
   "execution_count": 27,
   "metadata": {
    "code_folding": []
   },
   "outputs": [],
   "source": [
    "def print_sample(sample_idxs):\n",
    "    print(''.join([trn_ds.idx_to_ch[x] for x in sample_idxs]))"
   ]
  },
  {
   "cell_type": "markdown",
   "metadata": {},
   "source": [
    "Обучим получившуюся модель"
   ]
  },
  {
   "cell_type": "code",
   "execution_count": 28,
   "metadata": {
    "code_folding": []
   },
   "outputs": [],
   "source": [
    "def train_one_epoch(model, loss_fn, optimizer):\n",
    "    model.train()\n",
    "    for line_num, (x, y) in enumerate(trn_dl):\n",
    "        loss = 0\n",
    "        optimizer.zero_grad()\n",
    "        h_prev = torch.zeros([1, hidden_size], dtype=torch.float, device=device)\n",
    "        x, y = x.to(device), y.to(device)\n",
    "        for i in range(x.shape[1]):\n",
    "            h_prev, y_pred = model(h_prev, x[:, i])\n",
    "            loss += loss_fn(y_pred, y[:, i])\n",
    "            \n",
    "        if (line_num+1) % 100 == 0:\n",
    "            print_sample(sample(model))\n",
    "        loss.backward()\n",
    "        optimizer.step()"
   ]
  },
  {
   "cell_type": "code",
   "execution_count": 29,
   "metadata": {
    "code_folding": []
   },
   "outputs": [],
   "source": [
    "def train(model, loss_fn, optimizer, dataset='dinos', epochs=1):\n",
    "    for e in range(1, epochs+1):\n",
    "        print('Epoch:{}'.format(e))\n",
    "        train_one_epoch(model, loss_fn, optimizer)\n",
    "        print()"
   ]
  },
  {
   "cell_type": "code",
   "execution_count": 30,
   "metadata": {
    "scrolled": false
   },
   "outputs": [
    {
     "name": "stdout",
     "output_type": "stream",
     "text": [
      "Epoch:1\n",
      "<ataa>\n",
      "<pudrosaurus>\n",
      "<shurocaurus>\n",
      "<seuaasamrus>\n",
      "<hauaoturus>\n",
      "<seltskvcurus>\n",
      "<ipalturus>\n",
      "<brjandsaurus>\n",
      "<wrueosaurus>\n",
      "<ysiposaurus>\n",
      "<apnrakojangsnaurus>\n",
      "<ptgrosaurus>\n",
      "<snmtrbipaurus>\n",
      "<tahrobaurus>\n",
      "<scaviuaurus>\n",
      "\n",
      "Epoch:2\n",
      "<sturus>\n",
      "<stainamsaurus>\n",
      "<shamesheatdaurus>\n",
      "<sonersaurus>\n",
      "<tanibaurus>\n",
      "<ajpiclltoryxcis>\n",
      "<uaurtraurus>\n",
      "<lrpuaaurus>\n",
      "<smsanopcor>\n",
      "<gnauegusiurus>\n",
      "<eoreyaurus>\n",
      "<imaesaratops>\n",
      "<aicomaurus>\n",
      "<ptgtposaurus>\n",
      "<lsoucaurus>\n",
      "\n",
      "Epoch:3\n",
      "<sltagssaurus>\n",
      "<aubitmtiousaurus>\n",
      "<snrotaurus>\n",
      "<arcoadssaurus>\n",
      "<ascgvsaurus>\n",
      "<erilyosrustus>\n",
      "<esaresatopa>\n",
      "<ctliceurus>\n",
      "<btrrogaurus>\n",
      "<pttankdaurus>\n",
      "<aauraraurus>\n",
      "<amuptaurus>\n",
      "<pslysaurus>\n",
      "<lcdocaurps>\n",
      "<lbhhogauras>\n",
      "\n",
      "Epoch:4\n",
      "<nvbrtsaurus>\n",
      "<tmohuberatops>\n",
      "<tcdrnaen>\n",
      "<gecrdauosaxtor>\n",
      "<rrkytaurus>\n",
      "<laapbsaurus>\n",
      "<anbooaurus>\n",
      "<puipounaurus>\n",
      "<lpurasaurus>\n",
      "<grcatocaurus>\n",
      "<tciuougsiurus>\n",
      "<iwtnossirus>\n",
      "<scphycaurus>\n",
      "<sngasaurus>\n",
      "<stpmiosaurus>\n",
      "\n",
      "Epoch:5\n",
      "<tbilbduaurus>\n",
      "<snaidourus>\n",
      "<lurtcsiurus>\n",
      "<jytosusars>\n",
      "<gtatotaurus>\n",
      "<cunicaurus>\n",
      "<aushiersaurus>\n",
      "<tbgocaurus>\n",
      "<aeunaolturus>\n",
      "<juntctosaurus>\n",
      "<snstsaksaniurus>\n",
      "<crobolkurus>\n",
      "<kvkukosaurus>\n",
      "<yrgitscosaurus>\n",
      "<tcbosaurus>\n",
      "\n",
      "Epoch:6\n",
      "<atamusaurusgmssauros>\n",
      "<tauras>\n",
      "<apcragaurus>\n",
      "<ematanusaurus>\n",
      "<drpmyrsaurus>\n",
      "<altdsaurus>\n",
      "<anctopaurus>\n",
      "<tgstsurus>\n",
      "<ztniosaosaurus>\n",
      "<tbciocaurus>\n",
      "<scirktgosaurus>\n",
      "<yunrotaurus>\n",
      "<arlubisaorus>\n",
      "<haranyosaurus>\n",
      "<rknyspauros>\n",
      "\n",
      "Epoch:7\n",
      "<aloasaurus>\n",
      "<aeltnaurus>\n",
      "<oucosaurus>\n",
      "<zpurosauros>\n",
      "<aplralaurus>\n",
      "<hhaocaurus>\n",
      "<srjiosaurus>\n",
      "<tbihcgsaurus>\n",
      "<snamcposaurus>\n",
      "<tcrosiispurus>\n",
      "<stbrocaurus>\n",
      "<aaurardkshasaptor>\n",
      "<stpnastou>\n",
      "<lrsoanraurus>\n",
      "<tbbsiasaurus>\n",
      "\n",
      "Epoch:8\n",
      "<aixixesaurus>\n",
      "<kwsoosatrus>\n",
      "<sapdycasahrus>\n",
      "<kapanusaurus>\n",
      "<drohvosrsaorus>\n",
      "<saurtceolasaurus>\n",
      "<ahunugsaurus>\n",
      "<ivpnrusas>\n",
      "<alscrsaurus>\n",
      "<laurocturus>\n",
      "<btutenrsaurus>\n",
      "<tanocaurus>\n",
      "<aauraraurus>\n",
      "<amuitaurus>\n",
      "<rtrwsaurus>\n",
      "\n",
      "Epoch:9\n",
      "<maltaonaurus>\n",
      "<mgtlicaurus>\n",
      "<ctropaurus>\n",
      "<mrruaosaurus>\n",
      "<talrobaurus>\n",
      "<tdkwiuesaurus>\n",
      "<iysmhttapaurus>\n",
      "<grcatocaurus>\n",
      "<saurotdx>\n",
      "<silmrg>\n",
      "<snottatheavjor>\n",
      "<alshangssaurus>\n",
      "<pudsosaurus>\n",
      "<snosscaurus>\n",
      "<sluaauris>\n",
      "\n",
      "Epoch:10\n",
      "<slbcreaurus>\n",
      "<stngsoouturus>\n",
      "<lhagtcssaurus>\n",
      "<lhthhasaurus>\n",
      "<stonctosuurus>\n",
      "<amgaesataurus>\n",
      "<ambsclrus>\n",
      "<vitcosaurus>\n",
      "<ytgsosaurus>\n",
      "<aonrbdsaurus>\n",
      "<haucotaurus>\n",
      "<lapony>\n",
      "<krohacneosaurus>\n",
      "<sichesinaxlsts>\n",
      "<bsstoroituomosutrus>\n",
      "\n"
     ]
    }
   ],
   "source": [
    "train(model, loss_fn, optimizer, epochs = 10)"
   ]
  },
  {
   "cell_type": "markdown",
   "metadata": {},
   "source": [
    "### Task 2.\n",
    "Rewrite the sampling function so that pangrams (words that contain each character of the alphabet only once)\n",
    "\n",
    "### Task 3.\n",
    "Rewrite the sampling function so that is it is possible to change the sampling temperature\n",
    "\n",
    "### Task 4.\n",
    "Implement the beam search for sampling"
   ]
  },
  {
   "cell_type": "code",
   "execution_count": null,
   "metadata": {},
   "outputs": [],
   "source": []
  },
  {
   "cell_type": "markdown",
   "metadata": {},
   "source": [
    "# Reference\n",
    "\n",
    "1. Sampling in  RNN: https://nlp.stanford.edu/blog/maximum-likelihood-decoding-with-rnns-the-good-the-bad-and-the-ugly/\n",
    "2. Coursera course (main source): https://github.com/furkanu/deeplearning.ai-pytorch/tree/master/5-%20Sequence%20Models\n",
    "3. Coursera course (main source): https://github.com/Kulbear/deep-learning-coursera/blob/master/Sequence%20Models/Dinosaurus%20Island%20--%20Character%20level%20language%20model%20final%20-%20v3.ipynb\n",
    "4. LSTM: http://colah.github.io/posts/2015-08-Understanding-LSTMs/\n",
    "5. Туториал по модулю LSTM в pytorch: https://pytorch.org/tutorials/beginner/nlp/sequence_models_tutorial.html"
   ]
  }
 ],
 "metadata": {
  "kernelspec": {
   "display_name": "Python 3",
   "language": "python",
   "name": "python3"
  },
  "language_info": {
   "codemirror_mode": {
    "name": "ipython",
    "version": 3
   },
   "file_extension": ".py",
   "mimetype": "text/x-python",
   "name": "python",
   "nbconvert_exporter": "python",
   "pygments_lexer": "ipython3",
   "version": "3.6.7"
  }
 },
 "nbformat": 4,
 "nbformat_minor": 2
}
