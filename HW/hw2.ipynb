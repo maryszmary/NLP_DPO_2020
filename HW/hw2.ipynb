{
 "cells": [
  {
   "cell_type": "markdown",
   "metadata": {},
   "source": [
    "# Домашнее здание 2\n",
    "\n",
    "В качестве ДЗ2, нужно сделать:\n",
    "* как минимум 3 задания из [ноутбука про марковские цепи](https://github.com/maryszmary/NLP_DPO_2020/blob/master/sem_04/LM_markov_chains.ipynb) (кроме первого)\n",
    "* как минимум одно задание из [ноутбука пр RNN](https://github.com/maryszmary/NLP_DPO_2020/blob/master/sem_04/LSTM_and_generation.pdf)"
   ]
  }
 ],
 "metadata": {
  "kernelspec": {
   "display_name": "Python 3",
   "language": "python",
   "name": "python3"
  },
  "language_info": {
   "codemirror_mode": {
    "name": "ipython",
    "version": 3
   },
   "file_extension": ".py",
   "mimetype": "text/x-python",
   "name": "python",
   "nbconvert_exporter": "python",
   "pygments_lexer": "ipython3",
   "version": "3.6.7"
  }
 },
 "nbformat": 4,
 "nbformat_minor": 4
}
